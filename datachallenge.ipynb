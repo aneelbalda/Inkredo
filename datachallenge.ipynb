{
 "cells": [
  {
   "cell_type": "code",
   "execution_count": 105,
   "metadata": {
    "collapsed": true
   },
   "outputs": [],
   "source": [
    "import pandas as pd\n",
    "import numpy as np"
   ]
  },
  {
   "cell_type": "code",
   "execution_count": 112,
   "metadata": {},
   "outputs": [
    {
     "name": "stdout",
     "output_type": "stream",
     "text": [
      "400165\n",
      "                               uuid       timestamp        session_id group  \\\n",
      "0  00000736167c507e8ec225bd9e71f9e5  20160301103842  78245c2c3fba013a     b   \n",
      "1  00000c69fe345268935463abbfa5d5b3  20160307005226  c559c3be98dca8a4     a   \n",
      "2  00003bfdab715ee59077a3670331b787  20160302145305  760bf89817ce4b08     a   \n",
      "3  0000465cd7c35ad2bdeafec953e08c1a  20160302222701  fb905603d31b2071     a   \n",
      "4  000050cbb4ef5b42b16c4d2cf69e6358  20160302095023  c2bf5e5172a892dc     a   \n",
      "\n",
      "             action  checkin           page_id  n_results  result_position  \n",
      "0  searchResultPage      NaN  cbeb66d1bc1f1bc2        5.0              NaN  \n",
      "1  searchResultPage      NaN  eb658e8722aad674       10.0              NaN  \n",
      "2           checkin     30.0  f99a9fc1f7fdd21e        NaN              NaN  \n",
      "3           checkin     60.0  e5626962a6939a75        NaN             10.0  \n",
      "4           checkin     30.0  787dd6a4c371cbf9        NaN              NaN  \n"
     ]
    },
    {
     "data": {
      "text/html": [
       "<div>\n",
       "<style>\n",
       "    .dataframe thead tr:only-child th {\n",
       "        text-align: right;\n",
       "    }\n",
       "\n",
       "    .dataframe thead th {\n",
       "        text-align: left;\n",
       "    }\n",
       "\n",
       "    .dataframe tbody tr th {\n",
       "        vertical-align: top;\n",
       "    }\n",
       "</style>\n",
       "<table border=\"1\" class=\"dataframe\">\n",
       "  <thead>\n",
       "    <tr style=\"text-align: right;\">\n",
       "      <th></th>\n",
       "      <th>checkin</th>\n",
       "      <th>n_results</th>\n",
       "      <th>result_position</th>\n",
       "    </tr>\n",
       "  </thead>\n",
       "  <tbody>\n",
       "    <tr>\n",
       "      <th>count</th>\n",
       "      <td>223824.000000</td>\n",
       "      <td>136234.000000</td>\n",
       "      <td>230482.000000</td>\n",
       "    </tr>\n",
       "    <tr>\n",
       "      <th>mean</th>\n",
       "      <td>97.190382</td>\n",
       "      <td>13.210109</td>\n",
       "      <td>2.992798</td>\n",
       "    </tr>\n",
       "    <tr>\n",
       "      <th>std</th>\n",
       "      <td>104.593714</td>\n",
       "      <td>13.271104</td>\n",
       "      <td>38.557292</td>\n",
       "    </tr>\n",
       "    <tr>\n",
       "      <th>min</th>\n",
       "      <td>10.000000</td>\n",
       "      <td>0.000000</td>\n",
       "      <td>1.000000</td>\n",
       "    </tr>\n",
       "    <tr>\n",
       "      <th>25%</th>\n",
       "      <td>20.000000</td>\n",
       "      <td>2.000000</td>\n",
       "      <td>1.000000</td>\n",
       "    </tr>\n",
       "    <tr>\n",
       "      <th>50%</th>\n",
       "      <td>50.000000</td>\n",
       "      <td>20.000000</td>\n",
       "      <td>1.000000</td>\n",
       "    </tr>\n",
       "    <tr>\n",
       "      <th>75%</th>\n",
       "      <td>150.000000</td>\n",
       "      <td>20.000000</td>\n",
       "      <td>2.000000</td>\n",
       "    </tr>\n",
       "    <tr>\n",
       "      <th>max</th>\n",
       "      <td>420.000000</td>\n",
       "      <td>500.000000</td>\n",
       "      <td>4103.000000</td>\n",
       "    </tr>\n",
       "  </tbody>\n",
       "</table>\n",
       "</div>"
      ],
      "text/plain": [
       "             checkin      n_results  result_position\n",
       "count  223824.000000  136234.000000    230482.000000\n",
       "mean       97.190382      13.210109         2.992798\n",
       "std       104.593714      13.271104        38.557292\n",
       "min        10.000000       0.000000         1.000000\n",
       "25%        20.000000       2.000000         1.000000\n",
       "50%        50.000000      20.000000         1.000000\n",
       "75%       150.000000      20.000000         2.000000\n",
       "max       420.000000     500.000000      4103.000000"
      ]
     },
     "execution_count": 112,
     "metadata": {},
     "output_type": "execute_result"
    }
   ],
   "source": [
    "df = pd.read_csv('events_log.csv',dtype={'timestamp': 'str'})\n",
    "#df = pd.read_csv('ev.csv',dtype={'timestamp': 'str'})\n",
    "#df = df[:1000]\n",
    "print(len(df))\n",
    "print(df.head())\n",
    "df.describe()"
   ]
  },
  {
   "cell_type": "code",
   "execution_count": 113,
   "metadata": {},
   "outputs": [
    {
     "name": "stdout",
     "output_type": "stream",
     "text": [
      "click through rate\n",
      "1.642937886283894\n",
      "click through rate for A\n",
      "1.8868732076127575\n",
      "click through rate for B\n",
      "1.1346371497125265\n"
     ]
    }
   ],
   "source": [
    "gab = df.groupby('group') #group by group a,b\n",
    "\n",
    "ga = df.groupby('action') #group by action\n",
    "\n",
    "dfa = df.iloc[gab.groups['a']] #dataframe for a group\n",
    "dfb = df.iloc[gab.groups['b']] #dataframe for b group\n",
    "\n",
    "count_searchPage = len(df.iloc[ga.groups['searchResultPage']]) #count of search result in whole data\n",
    "count_visitPage = len(df.iloc[ga.groups['checkin']]) #count of of visited in whole data\n",
    "\n",
    "#print(count_searchPage)\n",
    "#print(count_visitPage)\n",
    "print(\"click through rate\")\n",
    "print(count_visitPage/count_searchPage)\n",
    "\n",
    "\n",
    "gaa = dfa.groupby('action') #group by action\n",
    "gab = dfb.groupby('action') #group by action\n",
    "\n",
    "count_searchPageA = len(df.iloc[gaa.groups['searchResultPage']]) #count of search result in a data\n",
    "count_visitPageA = len(df.iloc[gaa.groups['checkin']]) #count of of visited in a  data\n",
    "\n",
    "\n",
    "count_searchPageB = len(df.iloc[gab.groups['searchResultPage']]) #count of search result in b data\n",
    "count_visitPageB = len(df.iloc[gab.groups['checkin']]) #count of of visited in b data\n",
    "\n",
    "\n",
    "#print(count_searchPageA)\n",
    "#print(count_visitPageA)\n",
    "\n",
    "print(\"click through rate for A\")\n",
    "print(count_visitPageA/count_searchPageA)\n",
    "\n",
    "#print(count_searchPageB)\n",
    "#print(count_visitPageB)\n",
    "\n",
    "print(\"click through rate for B\")\n",
    "print(count_visitPageB/count_searchPageB)"
   ]
  },
  {
   "cell_type": "code",
   "execution_count": 114,
   "metadata": {},
   "outputs": [
    {
     "name": "stdout",
     "output_type": "stream",
     "text": [
      "Results do people tend to try first :-  \n",
      "4087.0\n"
     ]
    }
   ],
   "source": [
    "dfsearchResultPage = df.iloc[ga.groups['checkin']] #data frame for search resultpage\n",
    "gSRP = dfsearchResultPage.groupby('result_position')\n",
    "\n",
    "#print(gSRP.groups)\n",
    "resultname = \"\"\n",
    "res = 0;\n",
    "for name, group in gSRP:\n",
    "    #print(name,len(group)) #name and group\n",
    "    if len(group) > res: #to check len of each result \n",
    "        resultname = name\n",
    "\n",
    "print(\"Results do people tend to try first :-  \")        \n",
    "print(resultname)\n",
    "#print(len(group))\n",
    "\n"
   ]
  },
  {
   "cell_type": "code",
   "execution_count": 115,
   "metadata": {},
   "outputs": [
    {
     "name": "stdout",
     "output_type": "stream",
     "text": [
      "136234\n",
      "25127\n",
      "zero results rate\n",
      "0.18444000763392399\n",
      "92056\n",
      "25127\n",
      "zero results rate A\n",
      "0.2729534196575997\n",
      "44178\n",
      "8225\n",
      "zero results rate B\n",
      "0.1861786409525103\n"
     ]
    }
   ],
   "source": [
    "dfsearchResultPage = df.iloc[ga.groups['searchResultPage']] #data frame for search resultpage\n",
    "gSRP = dfsearchResultPage.groupby('n_results')\n",
    "zeroResult = len(df.iloc[gSRP.groups[0.0]])\n",
    "print(len(dfsearchResultPage))\n",
    "print(zeroResult)\n",
    "\n",
    "print(\"zero results rate\")\n",
    "print(zeroResult/len(dfsearchResultPage))\n",
    "\n",
    "dfsearchResultPagea = df.iloc[gaa.groups['searchResultPage']] #data frame for search resultpage\n",
    "gSRPa = dfsearchResultPagea.groupby('n_results')\n",
    "zeroResulta = len(df.iloc[gSRP.groups[0.0]])\n",
    "print(len(dfsearchResultPagea))\n",
    "print(zeroResulta)\n",
    "\n",
    "print(\"zero results rate A\")\n",
    "print(zeroResulta/len(dfsearchResultPagea))\n",
    "\n",
    "\n",
    "\n",
    "dfsearchResultPageb = df.iloc[gab.groups['searchResultPage']] #data frame for search resultpage\n",
    "gSRPb = dfsearchResultPageb.groupby('n_results')\n",
    "zeroResultb = len(df.iloc[gSRPb.groups[0.0]])\n",
    "print(len(dfsearchResultPageb))\n",
    "print(zeroResultb)\n",
    "\n",
    "print(\"zero results rate B\" )\n",
    "print(zeroResultb/len(dfsearchResultPageb))\n",
    "\n"
   ]
  },
  {
   "cell_type": "code",
   "execution_count": 116,
   "metadata": {},
   "outputs": [
    {
     "ename": "ValueError",
     "evalue": "time data '2.0160307e+13' does not match format '%Y%m%d%H%M%S'",
     "output_type": "error",
     "traceback": [
      "\u001b[0;31m---------------------------------------------------------------------------\u001b[0m",
      "\u001b[0;31mValueError\u001b[0m                                Traceback (most recent call last)",
      "\u001b[0;32m<ipython-input-116-6315c0d9e442>\u001b[0m in \u001b[0;36m<module>\u001b[0;34m()\u001b[0m\n\u001b[1;32m      5\u001b[0m \u001b[0;34m\u001b[0m\u001b[0m\n\u001b[1;32m      6\u001b[0m \u001b[0;32mfor\u001b[0m \u001b[0mname\u001b[0m\u001b[0;34m,\u001b[0m \u001b[0mgroup\u001b[0m \u001b[0;32min\u001b[0m \u001b[0mgsessionid\u001b[0m\u001b[0;34m:\u001b[0m\u001b[0;34m\u001b[0m\u001b[0m\n\u001b[0;32m----> 7\u001b[0;31m     \u001b[0mdates\u001b[0m \u001b[0;34m=\u001b[0m \u001b[0;34m[\u001b[0m\u001b[0mdatetime\u001b[0m\u001b[0;34m.\u001b[0m\u001b[0mdatetime\u001b[0m\u001b[0;34m.\u001b[0m\u001b[0mstrptime\u001b[0m\u001b[0;34m(\u001b[0m\u001b[0mx\u001b[0m\u001b[0;34m,\u001b[0m \u001b[0;34m'%Y%m%d%H%M%S'\u001b[0m\u001b[0;34m)\u001b[0m \u001b[0;32mfor\u001b[0m \u001b[0mx\u001b[0m \u001b[0;32min\u001b[0m \u001b[0mgroup\u001b[0m\u001b[0;34m[\u001b[0m\u001b[0;34m'timestamp'\u001b[0m\u001b[0;34m]\u001b[0m\u001b[0;34m.\u001b[0m\u001b[0mvalues\u001b[0m\u001b[0;34m.\u001b[0m\u001b[0mtolist\u001b[0m\u001b[0;34m(\u001b[0m\u001b[0;34m)\u001b[0m\u001b[0;34m]\u001b[0m\u001b[0;34m\u001b[0m\u001b[0m\n\u001b[0m\u001b[1;32m      8\u001b[0m     \u001b[0msession_length\u001b[0m \u001b[0;34m=\u001b[0m \u001b[0mmax\u001b[0m\u001b[0;34m(\u001b[0m\u001b[0mdates\u001b[0m\u001b[0;34m)\u001b[0m\u001b[0;34m-\u001b[0m\u001b[0mmin\u001b[0m\u001b[0;34m(\u001b[0m\u001b[0mdates\u001b[0m\u001b[0;34m)\u001b[0m\u001b[0;34m\u001b[0m\u001b[0m\n\u001b[1;32m      9\u001b[0m     \u001b[0msess_map\u001b[0m\u001b[0;34m[\u001b[0m\u001b[0mname\u001b[0m\u001b[0;34m]\u001b[0m \u001b[0;34m=\u001b[0m \u001b[0msession_length\u001b[0m\u001b[0;34m\u001b[0m\u001b[0m\n",
      "\u001b[0;32m<ipython-input-116-6315c0d9e442>\u001b[0m in \u001b[0;36m<listcomp>\u001b[0;34m(.0)\u001b[0m\n\u001b[1;32m      5\u001b[0m \u001b[0;34m\u001b[0m\u001b[0m\n\u001b[1;32m      6\u001b[0m \u001b[0;32mfor\u001b[0m \u001b[0mname\u001b[0m\u001b[0;34m,\u001b[0m \u001b[0mgroup\u001b[0m \u001b[0;32min\u001b[0m \u001b[0mgsessionid\u001b[0m\u001b[0;34m:\u001b[0m\u001b[0;34m\u001b[0m\u001b[0m\n\u001b[0;32m----> 7\u001b[0;31m     \u001b[0mdates\u001b[0m \u001b[0;34m=\u001b[0m \u001b[0;34m[\u001b[0m\u001b[0mdatetime\u001b[0m\u001b[0;34m.\u001b[0m\u001b[0mdatetime\u001b[0m\u001b[0;34m.\u001b[0m\u001b[0mstrptime\u001b[0m\u001b[0;34m(\u001b[0m\u001b[0mx\u001b[0m\u001b[0;34m,\u001b[0m \u001b[0;34m'%Y%m%d%H%M%S'\u001b[0m\u001b[0;34m)\u001b[0m \u001b[0;32mfor\u001b[0m \u001b[0mx\u001b[0m \u001b[0;32min\u001b[0m \u001b[0mgroup\u001b[0m\u001b[0;34m[\u001b[0m\u001b[0;34m'timestamp'\u001b[0m\u001b[0;34m]\u001b[0m\u001b[0;34m.\u001b[0m\u001b[0mvalues\u001b[0m\u001b[0;34m.\u001b[0m\u001b[0mtolist\u001b[0m\u001b[0;34m(\u001b[0m\u001b[0;34m)\u001b[0m\u001b[0;34m]\u001b[0m\u001b[0;34m\u001b[0m\u001b[0m\n\u001b[0m\u001b[1;32m      8\u001b[0m     \u001b[0msession_length\u001b[0m \u001b[0;34m=\u001b[0m \u001b[0mmax\u001b[0m\u001b[0;34m(\u001b[0m\u001b[0mdates\u001b[0m\u001b[0;34m)\u001b[0m\u001b[0;34m-\u001b[0m\u001b[0mmin\u001b[0m\u001b[0;34m(\u001b[0m\u001b[0mdates\u001b[0m\u001b[0;34m)\u001b[0m\u001b[0;34m\u001b[0m\u001b[0m\n\u001b[1;32m      9\u001b[0m     \u001b[0msess_map\u001b[0m\u001b[0;34m[\u001b[0m\u001b[0mname\u001b[0m\u001b[0;34m]\u001b[0m \u001b[0;34m=\u001b[0m \u001b[0msession_length\u001b[0m\u001b[0;34m\u001b[0m\u001b[0m\n",
      "\u001b[0;32m/home/balda/anaconda2/envs/py36/lib/python3.6/_strptime.py\u001b[0m in \u001b[0;36m_strptime_datetime\u001b[0;34m(cls, data_string, format)\u001b[0m\n\u001b[1;32m    563\u001b[0m     \"\"\"Return a class cls instance based on the input string and the\n\u001b[1;32m    564\u001b[0m     format string.\"\"\"\n\u001b[0;32m--> 565\u001b[0;31m     \u001b[0mtt\u001b[0m\u001b[0;34m,\u001b[0m \u001b[0mfraction\u001b[0m \u001b[0;34m=\u001b[0m \u001b[0m_strptime\u001b[0m\u001b[0;34m(\u001b[0m\u001b[0mdata_string\u001b[0m\u001b[0;34m,\u001b[0m \u001b[0mformat\u001b[0m\u001b[0;34m)\u001b[0m\u001b[0;34m\u001b[0m\u001b[0m\n\u001b[0m\u001b[1;32m    566\u001b[0m     \u001b[0mtzname\u001b[0m\u001b[0;34m,\u001b[0m \u001b[0mgmtoff\u001b[0m \u001b[0;34m=\u001b[0m \u001b[0mtt\u001b[0m\u001b[0;34m[\u001b[0m\u001b[0;34m-\u001b[0m\u001b[0;36m2\u001b[0m\u001b[0;34m:\u001b[0m\u001b[0;34m]\u001b[0m\u001b[0;34m\u001b[0m\u001b[0m\n\u001b[1;32m    567\u001b[0m     \u001b[0margs\u001b[0m \u001b[0;34m=\u001b[0m \u001b[0mtt\u001b[0m\u001b[0;34m[\u001b[0m\u001b[0;34m:\u001b[0m\u001b[0;36m6\u001b[0m\u001b[0;34m]\u001b[0m \u001b[0;34m+\u001b[0m \u001b[0;34m(\u001b[0m\u001b[0mfraction\u001b[0m\u001b[0;34m,\u001b[0m\u001b[0;34m)\u001b[0m\u001b[0;34m\u001b[0m\u001b[0m\n",
      "\u001b[0;32m/home/balda/anaconda2/envs/py36/lib/python3.6/_strptime.py\u001b[0m in \u001b[0;36m_strptime\u001b[0;34m(data_string, format)\u001b[0m\n\u001b[1;32m    360\u001b[0m     \u001b[0;32mif\u001b[0m \u001b[0;32mnot\u001b[0m \u001b[0mfound\u001b[0m\u001b[0;34m:\u001b[0m\u001b[0;34m\u001b[0m\u001b[0m\n\u001b[1;32m    361\u001b[0m         raise ValueError(\"time data %r does not match format %r\" %\n\u001b[0;32m--> 362\u001b[0;31m                          (data_string, format))\n\u001b[0m\u001b[1;32m    363\u001b[0m     \u001b[0;32mif\u001b[0m \u001b[0mlen\u001b[0m\u001b[0;34m(\u001b[0m\u001b[0mdata_string\u001b[0m\u001b[0;34m)\u001b[0m \u001b[0;34m!=\u001b[0m \u001b[0mfound\u001b[0m\u001b[0;34m.\u001b[0m\u001b[0mend\u001b[0m\u001b[0;34m(\u001b[0m\u001b[0;34m)\u001b[0m\u001b[0;34m:\u001b[0m\u001b[0;34m\u001b[0m\u001b[0m\n\u001b[1;32m    364\u001b[0m         raise ValueError(\"unconverted data remains: %s\" %\n",
      "\u001b[0;31mValueError\u001b[0m: time data '2.0160307e+13' does not match format '%Y%m%d%H%M%S'"
     ]
    }
   ],
   "source": [
    "import datetime   # For DateTime manupulations\n",
    "gsessionid = df.groupby('session_id')\n",
    "\n",
    "sess_map = {}\n",
    "\n",
    "for name, group in gsessionid:\n",
    "    dates = [datetime.datetime.strptime(x, '%Y%m%d%H%M%S') for x in group['timestamp'].values.tolist()]\n",
    "    session_length = max(dates)-min(dates)\n",
    "    sess_map[name] = session_length\n",
    "\n",
    "    \n",
    "grp_tot_sess_length = {'a':sess_map['91174a537d79a0c7'],'b':sess_map['91174a537d79a0c7']}\n",
    "for i in sess_map:\n",
    "#     print(sess_map[i],\"->\",df[df['session_id'] == i]['group'].values[0])\n",
    "    grp_tot_sess_length[df[df['session_id'] == i]['group'].values[0]]+=sess_map[i]\n",
    "    \n",
    "grp_tot_sess_length['a']\n"
   ]
  },
  {
   "cell_type": "code",
   "execution_count": null,
   "metadata": {},
   "outputs": [],
   "source": [
    "# grp_tot_sess_length['a']\n",
    "\n",
    "timesince = datetime.datetime.now() - grp_tot_sess_length['a']\n",
    "minutessince = int(total_seconds(timesince) / 60)\n",
    "\n",
    "minutessince"
   ]
  },
  {
   "cell_type": "code",
   "execution_count": null,
   "metadata": {
    "collapsed": true
   },
   "outputs": [],
   "source": []
  }
 ],
 "metadata": {
  "kernelspec": {
   "display_name": "Python 3",
   "language": "python",
   "name": "python3"
  },
  "language_info": {
   "codemirror_mode": {
    "name": "ipython",
    "version": 3
   },
   "file_extension": ".py",
   "mimetype": "text/x-python",
   "name": "python",
   "nbconvert_exporter": "python",
   "pygments_lexer": "ipython3",
   "version": "3.6.1"
  }
 },
 "nbformat": 4,
 "nbformat_minor": 2
}
