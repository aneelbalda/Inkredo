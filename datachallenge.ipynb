{
 "cells": [
  {
   "cell_type": "code",
   "execution_count": 1,
   "metadata": {
    "collapsed": true
   },
   "outputs": [],
   "source": [
    "import pandas as pd\n",
    "import numpy as np"
   ]
  },
  {
   "cell_type": "code",
   "execution_count": 2,
   "metadata": {},
   "outputs": [
    {
     "name": "stdout",
     "output_type": "stream",
     "text": [
      "                               uuid       timestamp        session_id group  \\\n",
      "0  00000736167c507e8ec225bd9e71f9e5  20160301103842  78245c2c3fba013a     b   \n",
      "1  00000c69fe345268935463abbfa5d5b3  20160307005226  c559c3be98dca8a4     a   \n",
      "2  00003bfdab715ee59077a3670331b787  20160302145305  760bf89817ce4b08     a   \n",
      "3  0000465cd7c35ad2bdeafec953e08c1a  20160302222701  fb905603d31b2071     a   \n",
      "4  000050cbb4ef5b42b16c4d2cf69e6358  20160302095023  c2bf5e5172a892dc     a   \n",
      "\n",
      "             action  checkin           page_id  n_results  result_position  \n",
      "0  searchResultPage      NaN  cbeb66d1bc1f1bc2        5.0              NaN  \n",
      "1  searchResultPage      NaN  eb658e8722aad674       10.0              NaN  \n",
      "2           checkin     30.0  f99a9fc1f7fdd21e        NaN              NaN  \n",
      "3           checkin     60.0  e5626962a6939a75        NaN             10.0  \n",
      "4           checkin     30.0  787dd6a4c371cbf9        NaN              NaN  \n"
     ]
    },
    {
     "data": {
      "text/html": [
       "<div>\n",
       "<style>\n",
       "    .dataframe thead tr:only-child th {\n",
       "        text-align: right;\n",
       "    }\n",
       "\n",
       "    .dataframe thead th {\n",
       "        text-align: left;\n",
       "    }\n",
       "\n",
       "    .dataframe tbody tr th {\n",
       "        vertical-align: top;\n",
       "    }\n",
       "</style>\n",
       "<table border=\"1\" class=\"dataframe\">\n",
       "  <thead>\n",
       "    <tr style=\"text-align: right;\">\n",
       "      <th></th>\n",
       "      <th>checkin</th>\n",
       "      <th>n_results</th>\n",
       "      <th>result_position</th>\n",
       "    </tr>\n",
       "  </thead>\n",
       "  <tbody>\n",
       "    <tr>\n",
       "      <th>count</th>\n",
       "      <td>57.000000</td>\n",
       "      <td>39.000000</td>\n",
       "      <td>48.000000</td>\n",
       "    </tr>\n",
       "    <tr>\n",
       "      <th>mean</th>\n",
       "      <td>71.403509</td>\n",
       "      <td>14.102564</td>\n",
       "      <td>2.479167</td>\n",
       "    </tr>\n",
       "    <tr>\n",
       "      <th>std</th>\n",
       "      <td>87.268850</td>\n",
       "      <td>8.165379</td>\n",
       "      <td>3.395802</td>\n",
       "    </tr>\n",
       "    <tr>\n",
       "      <th>min</th>\n",
       "      <td>10.000000</td>\n",
       "      <td>0.000000</td>\n",
       "      <td>1.000000</td>\n",
       "    </tr>\n",
       "    <tr>\n",
       "      <th>25%</th>\n",
       "      <td>20.000000</td>\n",
       "      <td>7.000000</td>\n",
       "      <td>1.000000</td>\n",
       "    </tr>\n",
       "    <tr>\n",
       "      <th>50%</th>\n",
       "      <td>30.000000</td>\n",
       "      <td>20.000000</td>\n",
       "      <td>1.000000</td>\n",
       "    </tr>\n",
       "    <tr>\n",
       "      <th>75%</th>\n",
       "      <td>90.000000</td>\n",
       "      <td>20.000000</td>\n",
       "      <td>2.000000</td>\n",
       "    </tr>\n",
       "    <tr>\n",
       "      <th>max</th>\n",
       "      <td>360.000000</td>\n",
       "      <td>20.000000</td>\n",
       "      <td>20.000000</td>\n",
       "    </tr>\n",
       "  </tbody>\n",
       "</table>\n",
       "</div>"
      ],
      "text/plain": [
       "          checkin  n_results  result_position\n",
       "count   57.000000  39.000000        48.000000\n",
       "mean    71.403509  14.102564         2.479167\n",
       "std     87.268850   8.165379         3.395802\n",
       "min     10.000000   0.000000         1.000000\n",
       "25%     20.000000   7.000000         1.000000\n",
       "50%     30.000000  20.000000         1.000000\n",
       "75%     90.000000  20.000000         2.000000\n",
       "max    360.000000  20.000000        20.000000"
      ]
     },
     "execution_count": 2,
     "metadata": {},
     "output_type": "execute_result"
    }
   ],
   "source": [
    "df = pd.read_csv('events_log.csv',dtype={'timestamp': 'str'})\n",
    "#df = pd.read_csv('ev.csv',dtype={'timestamp': 'str'})\n",
    "df = df[:100]\n",
    "print(df.head())\n",
    "df.describe()"
   ]
  },
  {
   "cell_type": "code",
   "execution_count": 3,
   "metadata": {},
   "outputs": [
    {
     "name": "stdout",
     "output_type": "stream",
     "text": [
      "click through rate\n",
      "1.4615384615384615\n",
      "click through rate for A\n",
      "1.88\n",
      "click through rate for B\n",
      "0.7142857142857143\n"
     ]
    }
   ],
   "source": [
    "gab = df.groupby('group') #group by group a,b\n",
    "\n",
    "ga = df.groupby('action') #group by action\n",
    "\n",
    "dfa = df.iloc[gab.groups['a']] #dataframe for a group\n",
    "dfb = df.iloc[gab.groups['b']] #dataframe for b group\n",
    "\n",
    "count_searchPage = len(df.iloc[ga.groups['searchResultPage']]) #count of search result in whole data\n",
    "count_visitPage = len(df.iloc[ga.groups['checkin']]) #count of of visited in whole data\n",
    "\n",
    "#print(count_searchPage)\n",
    "#print(count_visitPage)\n",
    "print(\"click through rate\")\n",
    "print(count_visitPage/count_searchPage)\n",
    "\n",
    "\n",
    "gaa = dfa.groupby('action') #group by action\n",
    "gab = dfb.groupby('action') #group by action\n",
    "\n",
    "count_searchPageA = len(df.iloc[gaa.groups['searchResultPage']]) #count of search result in a data\n",
    "count_visitPageA = len(df.iloc[gaa.groups['checkin']]) #count of of visited in a  data\n",
    "\n",
    "\n",
    "count_searchPageB = len(df.iloc[gab.groups['searchResultPage']]) #count of search result in b data\n",
    "count_visitPageB = len(df.iloc[gab.groups['checkin']]) #count of of visited in b data\n",
    "\n",
    "\n",
    "#print(count_searchPageA)\n",
    "#print(count_visitPageA)\n",
    "\n",
    "print(\"click through rate for A\")\n",
    "print(count_visitPageA/count_searchPageA)\n",
    "\n",
    "#print(count_searchPageB)\n",
    "#print(count_visitPageB)\n",
    "\n",
    "print(\"click through rate for B\")\n",
    "print(count_visitPageB/count_searchPageB)"
   ]
  },
  {
   "cell_type": "code",
   "execution_count": 4,
   "metadata": {},
   "outputs": [],
   "source": [
    "# dfsearchResultPage = df.iloc[ga.groups['checkin']] #data frame for search resultpage\n",
    "# gSRP = dfsearchResultPage.groupby('result_position')\n",
    "\n",
    "# print(gSRP.groups)\n",
    "# resultname = \"\"\n",
    "# res = 0;\n",
    "# for name, group in gSRP:\n",
    "#     print(name,len(group)) #name and group\n",
    "#     if len(group) > res: #to check len of each result \n",
    "#         resultname = name\n",
    "\n",
    "# print(\"Results do people tend to try first :-  \")        \n",
    "# print(resultname)\n",
    "    #print(len(group))\n",
    "\n"
   ]
  },
  {
   "cell_type": "code",
   "execution_count": 5,
   "metadata": {},
   "outputs": [
    {
     "name": "stdout",
     "output_type": "stream",
     "text": [
      "39\n",
      "6\n",
      "zero results rate\n",
      "0.15384615384615385\n",
      "25\n",
      "6\n",
      "zero results rate A\n",
      "0.24\n",
      "14\n",
      "2\n",
      "zero results rate B\n",
      "0.14285714285714285\n"
     ]
    }
   ],
   "source": [
    "dfsearchResultPage = df.iloc[ga.groups['searchResultPage']] #data frame for search resultpage\n",
    "gSRP = dfsearchResultPage.groupby('n_results')\n",
    "zeroResult = len(df.iloc[gSRP.groups[0.0]])\n",
    "print(len(dfsearchResultPage))\n",
    "print(zeroResult)\n",
    "\n",
    "print(\"zero results rate\")\n",
    "print(zeroResult/len(dfsearchResultPage))\n",
    "\n",
    "dfsearchResultPagea = df.iloc[gaa.groups['searchResultPage']] #data frame for search resultpage\n",
    "gSRPa = dfsearchResultPagea.groupby('n_results')\n",
    "zeroResulta = len(df.iloc[gSRP.groups[0.0]])\n",
    "print(len(dfsearchResultPagea))\n",
    "print(zeroResulta)\n",
    "\n",
    "print(\"zero results rate A\")\n",
    "print(zeroResulta/len(dfsearchResultPagea))\n",
    "\n",
    "\n",
    "\n",
    "dfsearchResultPageb = df.iloc[gab.groups['searchResultPage']] #data frame for search resultpage\n",
    "gSRPb = dfsearchResultPageb.groupby('n_results')\n",
    "zeroResultb = len(df.iloc[gSRPb.groups[0.0]])\n",
    "print(len(dfsearchResultPageb))\n",
    "print(zeroResultb)\n",
    "\n",
    "print(\"zero results rate B\" )\n",
    "print(zeroResultb/len(dfsearchResultPageb))\n",
    "\n"
   ]
  },
  {
   "cell_type": "code",
   "execution_count": null,
   "metadata": {},
   "outputs": [],
   "source": []
  },
  {
   "cell_type": "code",
   "execution_count": null,
   "metadata": {
    "collapsed": true
   },
   "outputs": [],
   "source": []
  }
 ],
 "metadata": {
  "kernelspec": {
   "display_name": "Python 3",
   "language": "python",
   "name": "python3"
  },
  "language_info": {
   "codemirror_mode": {
    "name": "ipython",
    "version": 3
   },
   "file_extension": ".py",
   "mimetype": "text/x-python",
   "name": "python",
   "nbconvert_exporter": "python",
   "pygments_lexer": "ipython3",
   "version": "3.6.1"
  }
 },
 "nbformat": 4,
 "nbformat_minor": 2
}
